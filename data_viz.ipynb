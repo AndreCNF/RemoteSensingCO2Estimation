{
 "cells": [
  {
   "cell_type": "markdown",
   "metadata": {},
   "source": [
    "# Data visualisation\n",
    "---\n",
    "\n",
    "Here I want to actually see the images and what goes into the model, as a sense check and to test how I'll see the outputs as well."
   ]
  },
  {
   "cell_type": "markdown",
   "metadata": {},
   "source": [
    "## Setup"
   ]
  },
  {
   "cell_type": "markdown",
   "metadata": {},
   "source": [
    "### Import libraries"
   ]
  },
  {
   "cell_type": "code",
   "execution_count": null,
   "metadata": {},
   "outputs": [],
   "source": [
    "import os\n",
    "import numpy as np\n",
    "import plotly.express as px\n",
    "import plotly.io as pio\n",
    "from plotly.subplots import make_subplots\n",
    "import plotly.graph_objects as go\n",
    "import pandas as pd"
   ]
  },
  {
   "cell_type": "code",
   "execution_count": null,
   "metadata": {},
   "outputs": [],
   "source": [
    "from dataset_multitask import create_dataset"
   ]
  },
  {
   "cell_type": "markdown",
   "metadata": {},
   "source": [
    "### Set parameters"
   ]
  },
  {
   "cell_type": "code",
   "execution_count": null,
   "metadata": {},
   "outputs": [],
   "source": [
    "pio.templates.default = \"plotly_dark\"\n",
    "rgb_bands = [3, 2, 1]\n",
    "full_img_size = 600\n",
    "subplot_img_size = 300"
   ]
  },
  {
   "cell_type": "code",
   "execution_count": null,
   "metadata": {},
   "outputs": [],
   "source": [
    "data_path = \"/Users/andreferreira/Documents_Offline/Datasets/WorkResearch/MultitaskNeurIPS2021\""
   ]
  },
  {
   "cell_type": "markdown",
   "metadata": {},
   "source": [
    "### Define auxilary functions"
   ]
  },
  {
   "cell_type": "code",
   "execution_count": null,
   "metadata": {},
   "outputs": [],
   "source": [
    "def process_image_for_plot(img):\n",
    "    img_rgb = img[rgb_bands].numpy().transpose(1, 2, 0)\n",
    "    img_rgb = np.clip(img_rgb * 255, 0, 255)\n",
    "    return img_rgb"
   ]
  },
  {
   "cell_type": "markdown",
   "metadata": {},
   "source": [
    "## Load the data"
   ]
  },
  {
   "cell_type": "code",
   "execution_count": null,
   "metadata": {},
   "outputs": [],
   "source": [
    "reg_data = pd.read_csv(os.path.join(data_path, \"reg_co2_data.csv\"))\n",
    "reg_data"
   ]
  },
  {
   "cell_type": "code",
   "execution_count": null,
   "metadata": {},
   "outputs": [],
   "source": [
    "data_train = create_dataset(\n",
    "    datadir=data_path,\n",
    "    seglabeldir=os.path.join(data_path, \"segmentation_labels\", \"training/\"),\n",
    "    reg_data=reg_data,\n",
    "    mult=1,\n",
    "    train=True,\n",
    "    channels=list(range(12)),\n",
    ")"
   ]
  },
  {
   "cell_type": "code",
   "execution_count": null,
   "metadata": {},
   "outputs": [],
   "source": [
    "data_iter = iter(data_train)"
   ]
  },
  {
   "cell_type": "code",
   "execution_count": null,
   "metadata": {},
   "outputs": [],
   "source": [
    "samples = [next(data_iter) for i in range(4)]"
   ]
  },
  {
   "cell_type": "markdown",
   "metadata": {},
   "source": [
    "## Visualise the data"
   ]
  },
  {
   "cell_type": "markdown",
   "metadata": {},
   "source": [
    "### Just the images"
   ]
  },
  {
   "cell_type": "code",
   "execution_count": null,
   "metadata": {},
   "outputs": [],
   "source": [
    "samples[0].keys()"
   ]
  },
  {
   "cell_type": "code",
   "execution_count": null,
   "metadata": {},
   "outputs": [],
   "source": [
    "img_rgb = process_image_for_plot(samples[0][\"img\"])\n",
    "img_rgb"
   ]
  },
  {
   "cell_type": "code",
   "execution_count": null,
   "metadata": {},
   "outputs": [],
   "source": [
    "img_rgb.shape"
   ]
  },
  {
   "cell_type": "code",
   "execution_count": null,
   "metadata": {},
   "outputs": [],
   "source": [
    "px.imshow(img_rgb, height=full_img_size, width=full_img_size)"
   ]
  },
  {
   "cell_type": "code",
   "execution_count": null,
   "metadata": {},
   "outputs": [],
   "source": [
    "fig = make_subplots(rows=len(samples) // 2, cols=2)\n",
    "[\n",
    "    fig.add_trace(go.Image(z=process_image_for_plot(s[\"img\"])), row=(idx // 2) + 1, col=(idx % 2) + 1) \n",
    "    for idx, s in enumerate(samples)\n",
    "]\n",
    "fig.layout.height = subplot_img_size * len(samples) // 2\n",
    "fig.layout.width = subplot_img_size * 2\n",
    "fig"
   ]
  },
  {
   "cell_type": "markdown",
   "metadata": {},
   "source": [
    "### Plume masks"
   ]
  },
  {
   "cell_type": "code",
   "execution_count": null,
   "metadata": {},
   "outputs": [],
   "source": [
    "samples[0][\"fpt\"].shape"
   ]
  },
  {
   "cell_type": "code",
   "execution_count": null,
   "metadata": {},
   "outputs": [],
   "source": [
    "fig = px.imshow(process_image_for_plot(samples[0][\"img\"]), height=full_img_size, width=full_img_size)\n",
    "fig.add_trace(go.Contour(z=samples[0][\"fpt\"], showscale=False,\n",
    "                         contours=dict(start=0, end=1, size=2, coloring=\"lines\"),\n",
    "                         line_width=4))\n",
    "fig"
   ]
  },
  {
   "cell_type": "code",
   "execution_count": null,
   "metadata": {},
   "outputs": [],
   "source": [
    "for idx in range(len(samples)):\n",
    "    fig = px.imshow(process_image_for_plot(samples[idx][\"img\"]), height=full_img_size, width=full_img_size)\n",
    "    fig.add_trace(go.Contour(z=samples[idx][\"fpt\"], showscale=False,\n",
    "                            contours=dict(start=0, end=1, size=2, coloring=\"lines\"),\n",
    "                            line_width=4))\n",
    "    display(fig)"
   ]
  },
  {
   "cell_type": "code",
   "execution_count": null,
   "metadata": {},
   "outputs": [],
   "source": []
  }
 ],
 "metadata": {
  "interpreter": {
   "hash": "204c3df456eb2643278beb24072d0abee63b2b8f3fe865d7248daa0547c35ef2"
  },
  "kernelspec": {
   "display_name": "Python 3.9.9 64-bit ('remotesensingco2estimation-Tzo4o22h-py3.9': poetry)",
   "language": "python",
   "name": "python3"
  },
  "language_info": {
   "codemirror_mode": {
    "name": "ipython",
    "version": 3
   },
   "file_extension": ".py",
   "mimetype": "text/x-python",
   "name": "python",
   "nbconvert_exporter": "python",
   "pygments_lexer": "ipython3",
   "version": "3.9.9"
  },
  "orig_nbformat": 4
 },
 "nbformat": 4,
 "nbformat_minor": 2
}
