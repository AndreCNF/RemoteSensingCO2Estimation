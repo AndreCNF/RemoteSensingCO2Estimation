{
 "cells": [
  {
   "cell_type": "markdown",
   "metadata": {},
   "source": [
    "# Split the data\n",
    "---\n",
    "\n",
    "The data wasn't split into training and validation sets, so I'll do that now."
   ]
  },
  {
   "cell_type": "markdown",
   "metadata": {},
   "source": [
    "## Setup"
   ]
  },
  {
   "cell_type": "markdown",
   "metadata": {},
   "source": [
    "### Import libraries"
   ]
  },
  {
   "cell_type": "code",
   "execution_count": null,
   "metadata": {},
   "outputs": [],
   "source": [
    "import os\n",
    "import pandas as pd"
   ]
  },
  {
   "cell_type": "markdown",
   "metadata": {},
   "source": [
    "### Set parameters"
   ]
  },
  {
   "cell_type": "code",
   "execution_count": null,
   "metadata": {},
   "outputs": [],
   "source": [
    "val_perc = 0.2"
   ]
  },
  {
   "cell_type": "code",
   "execution_count": null,
   "metadata": {},
   "outputs": [],
   "source": [
    "meta_path = \"/Users/andreferreira/Documents_Offline/Datasets/WorkResearch/MultitaskNeurIPS2021\"\n",
    "seg_path = \"/Users/andreferreira/Documents_Offline/Datasets/WorkResearch/MultitaskNeurIPS2021/segmentation_labels\""
   ]
  },
  {
   "cell_type": "markdown",
   "metadata": {},
   "source": [
    "## Load the metadata"
   ]
  },
  {
   "cell_type": "code",
   "execution_count": null,
   "metadata": {},
   "outputs": [],
   "source": [
    "meta_df = pd.read_csv(os.path.join(meta_path, \"reg_co2_data.csv\"))\n",
    "meta_df"
   ]
  },
  {
   "cell_type": "code",
   "execution_count": null,
   "metadata": {},
   "outputs": [],
   "source": [
    "perc_null_gen = meta_df.gen_output.isnull().sum() / len(meta_df)\n",
    "print(f\"Percentage of null values in generation output: {perc_null_gen * 100:.2f}%\")"
   ]
  },
  {
   "cell_type": "code",
   "execution_count": null,
   "metadata": {},
   "outputs": [],
   "source": [
    "(meta_df.gen_output == 0).sum()"
   ]
  },
  {
   "cell_type": "code",
   "execution_count": null,
   "metadata": {},
   "outputs": [],
   "source": [
    "num_rows_orig = len(meta_df)\n",
    "meta_df = meta_df[meta_df.gen_output.isnull() == False]\n",
    "num_rows_new = len(meta_df)\n",
    "print(f\"Number of rows removed: {num_rows_orig - num_rows_new}\")"
   ]
  },
  {
   "cell_type": "markdown",
   "metadata": {},
   "source": [
    "## Split the data"
   ]
  },
  {
   "cell_type": "markdown",
   "metadata": {},
   "source": [
    "### Define the sets"
   ]
  },
  {
   "cell_type": "code",
   "execution_count": null,
   "metadata": {},
   "outputs": [],
   "source": [
    "plant_ids = meta_df.groupby([\"lat\", \"lon\"]).groups\n",
    "count = 0\n",
    "for key, val in plant_ids.items():\n",
    "    plant_ids[key] = count\n",
    "    count += 1\n",
    "plant_ids"
   ]
  },
  {
   "cell_type": "code",
   "execution_count": null,
   "metadata": {},
   "outputs": [],
   "source": [
    "meta_df[\"plant_id\"] = meta_df.apply(lambda row: plant_ids[(row.lat, row.lon)], axis=1)\n",
    "meta_df"
   ]
  },
  {
   "cell_type": "code",
   "execution_count": null,
   "metadata": {},
   "outputs": [],
   "source": [
    "samples_per_plant = meta_df.groupby(\"plant_id\").filename.count()\n",
    "samples_per_plant"
   ]
  },
  {
   "cell_type": "code",
   "execution_count": null,
   "metadata": {},
   "outputs": [],
   "source": [
    "num_val_samples = int(len(meta_df) * val_perc)\n",
    "num_val_samples"
   ]
  },
  {
   "cell_type": "code",
   "execution_count": null,
   "metadata": {},
   "outputs": [],
   "source": [
    "cur_num_val_samples = 0\n",
    "val_samples_ids = list()\n",
    "while cur_num_val_samples < num_val_samples:\n",
    "    cur_plant = meta_df.sample(n=1)[\"plant_id\"].values[0]\n",
    "    if cur_plant not in val_samples_ids:\n",
    "        val_samples_ids.append(cur_plant)\n",
    "        cur_num_val_samples += samples_per_plant[cur_plant]"
   ]
  },
  {
   "cell_type": "code",
   "execution_count": null,
   "metadata": {},
   "outputs": [],
   "source": [
    "cur_num_val_samples"
   ]
  },
  {
   "cell_type": "code",
   "execution_count": null,
   "metadata": {},
   "outputs": [],
   "source": [
    "val_samples_files = meta_df[meta_df.plant_id.isin(val_samples_ids)].filename.str.replace(\".tif\", \"\").values\n",
    "val_samples_files"
   ]
  },
  {
   "cell_type": "markdown",
   "metadata": {},
   "source": [
    "### Move the segmentation files to the set folders"
   ]
  },
  {
   "cell_type": "code",
   "execution_count": null,
   "metadata": {},
   "outputs": [],
   "source": [
    "seg_files = os.listdir(seg_path)\n",
    "seg_files"
   ]
  },
  {
   "cell_type": "code",
   "execution_count": null,
   "metadata": {},
   "outputs": [],
   "source": [
    "os.makedirs(os.path.join(seg_path, \"validation\"), exist_ok=True)\n",
    "os.makedirs(os.path.join(seg_path, \"training\"), exist_ok=True)\n",
    "for seg_file in seg_files:\n",
    "    if seg_file.split(\"_features\")[0] in val_samples_files:\n",
    "        # move to validation folder\n",
    "        os.rename(os.path.join(seg_path, seg_file), os.path.join(seg_path, \"validation\", seg_file))\n",
    "    else:\n",
    "        # move to training folder\n",
    "        os.rename(os.path.join(seg_path, seg_file), os.path.join(seg_path, \"training\", seg_file))"
   ]
  },
  {
   "cell_type": "code",
   "execution_count": null,
   "metadata": {},
   "outputs": [],
   "source": []
  }
 ],
 "metadata": {
  "interpreter": {
   "hash": "204c3df456eb2643278beb24072d0abee63b2b8f3fe865d7248daa0547c35ef2"
  },
  "kernelspec": {
   "display_name": "Python 3.9.9 64-bit ('remotesensingco2estimation-Tzo4o22h-py3.9': poetry)",
   "language": "python",
   "name": "python3"
  },
  "language_info": {
   "codemirror_mode": {
    "name": "ipython",
    "version": 3
   },
   "file_extension": ".py",
   "mimetype": "text/x-python",
   "name": "python",
   "nbconvert_exporter": "python",
   "pygments_lexer": "ipython3",
   "version": "3.9.9"
  },
  "orig_nbformat": 4
 },
 "nbformat": 4,
 "nbformat_minor": 2
}
